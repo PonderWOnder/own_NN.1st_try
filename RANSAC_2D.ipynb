{
 "cells": [
  {
   "cell_type": "markdown",
   "metadata": {},
   "source": [
    "# Lab 9 - Implementation of RANSAC for 2D lines\n",
    "\n",
    "<font color=red>Note: Today, there are two **alternative** assigments. You can either make this assignment or the other one!</font>\n",
    "\n",
    "Implement the RANSAC algorithm as described in the PDF `RANSAC lect-fitting parts.pdf` (see eCampus) for the case of 2D lines defined by 2 points. The implementation should be available as a Python function.\t\n",
    "\n",
    "### The Input parameters of the function are\n",
    "\n",
    "1. Data in the form of 2D points\t\n",
    "\n",
    "2. The maximum number of iterations \n",
    "\n",
    "3. A threshold value that indicates whether a data point fits the model, i.e. whether it is an \"Inlier\" or \"Outlier\".\tIn our case the threshold is the distance to the line that a data point must fall below.\n",
    "\n",
    "4. The number of data points that must fit a model (in our case: a line that passes through two randomly selected points from our data set) at least (\"inliers\", in our case: points that are close enough to the line), so that the model is recognized as good enough.\n",
    "\n",
    "\n",
    "### The Output parameter is:\n",
    "\n",
    "The best model, in our case a line defined by two points, for which the most inliers have been found.\t\n",
    "OR an empty matrix, if there is no model after input parameter 2) iterations, for which input parameter 4) inliers are in the data."
   ]
  },
  {
   "cell_type": "code",
   "execution_count": 1,
   "metadata": {},
   "outputs": [],
   "source": [
    "import numpy as np\n",
    "import matplotlib.pyplot as plt\n",
    "import random\n"
   ]
  },
  {
   "cell_type": "code",
   "execution_count": null,
   "metadata": {},
   "outputs": [],
   "source": [
    "#create dataset\n",
    "#[[x_pos],[y_pos]]\n",
    "\n",
    "data_points = [[15, 10, 16, 46,  1, 47, 29, 26, 13, 28, 47, 22, 36, 28, 23, 15, 35,\n",
    "    20, 23, 3, 14, 17, 25, 42, 29, 30, 37,  2,  2, 33, 16, 7, 11, 19, 22, \n",
    "    27, 20, 10, 42, 34, 42, 35, 20, 35, 18, 49, 20, 34, 3, 7, 13, 12, 31, \n",
    "    16, 31, 37,  8, 41, 48, 22, 20, 19, 33,  5, 17, 35, 21, 9, 16, 35, 58,\n",
    "    62, 66, 68, 54, 69, 52, 60, 62, 67, 69, 54, 57, 57, 68, 59, 65, 51, \n",
    "    61, 58, 63, 67, 64, 56, 63, 56, 53, 67, 64, 55],\n",
    "    \n",
    "    [18, 26, 20, 41, 29, 22,  9, 30, 11, 35,  1, 32, 35,  2, 25, 31, 27,\n",
    "    1,  2, 32, 28, 28, 20,  6, 47, 48, 10, 27, 39, 17, 16, 24, 29, 19, 14,\n",
    "    28, 11, 20, 29, 16, 21, 28, 12, 26, 28, 11, 22, 17, 17, 24, 27, 23, 11,\n",
    "    24, 15, 16, 12, 26, 23, 27, 10, 14, 29, 12, 29, 17, 19, 15, 27, 26,52, \n",
    "    51, 64, 68, 60, 62, 63, 62, 57, 63, 60, 56, 63, 50, 51, 53, 64, 60, 56,\n",
    "    50, 57, 65, 56, 61, 69, 51, 66, 53, 61, 67]]"
   ]
  },
  {
   "cell_type": "code",
   "execution_count": null,
   "metadata": {},
   "outputs": [],
   "source": [
    "# data preview \n",
    "plt.plot(data_points[0], data_points[1], 'o')\n",
    "plt.show()"
   ]
  },
  {
   "cell_type": "code",
   "execution_count": null,
   "metadata": {},
   "outputs": [],
   "source": [
    "def ransac(data, max_iter, th, min_fitting): \n",
    "    \n",
    "    #output model\n",
    "    model_p1 = []\n",
    "    model_p2 = []\n",
    "    model_counter = 0\n",
    "    model_inlier = [[],[]]\n",
    "    model_outlier = [[],[]]\n",
    "    \n",
    "    \n",
    "    for i in range(max_iter): \n",
    "        \n",
    "        #select random model (two points)\n",
    "        # TODO\n",
    "\n",
    "        #get the coordinates of the random points\n",
    "        # TODO\n",
    "        \n",
    "\n",
    "        #calculate distance \n",
    "        #https://stackoverflow.com/questions/39840030/distance-between-point-and-a-line-from-two-points\n",
    "        # TODO\n",
    "        \n",
    "        \n",
    "        # compute the distance to the model line for each point \n",
    "        # TODO\n",
    "        \n",
    "        # check whether current model has more inliers than another model before\n",
    "        # TODO\n",
    "        \n",
    "        \n",
    "    #visualise the best model\n",
    "    print(\"best model: \")\n",
    "    \n",
    "    #plt all points\n",
    "     # TODO\n",
    "    \n",
    "    #plt inlier\n",
    "     # TODO\n",
    "    \n",
    "    #plt model \n",
    "     # TODO\n",
    "    \n",
    "    return [model_p1, model_p2], model_outlier, model_inlier\n",
    " \n",
    "\n"
   ]
  },
  {
   "cell_type": "code",
   "execution_count": null,
   "metadata": {
    "scrolled": true
   },
   "outputs": [],
   "source": [
    "# Test your algorithm\n",
    "model = ransac(data_points, 100, 2, 20)"
   ]
  },
  {
   "cell_type": "markdown",
   "metadata": {},
   "source": [
    "# 2) Use your function to find lines in a random dataset\n",
    "\n",
    "Create a random dataset with 100 2D points in a 400x400px 2D image: "
   ]
  },
  {
   "cell_type": "code",
   "execution_count": null,
   "metadata": {},
   "outputs": [],
   "source": [
    "dp = np.random.randint(400, size=(2,100)) "
   ]
  },
  {
   "cell_type": "code",
   "execution_count": null,
   "metadata": {},
   "outputs": [],
   "source": [
    "# data preview \n",
    "plt.plot(dp[0], dp[1], 'o')\n",
    "plt.show()"
   ]
  },
  {
   "cell_type": "markdown",
   "metadata": {},
   "source": [
    "1) Find the best line in this data set with your RANSAC implementation from task 1).\tVisualize the result (model line and inliers) and vary input parameters 3) and 4) until you have a result and are visually satisfied with the result."
   ]
  },
  {
   "cell_type": "code",
   "execution_count": null,
   "metadata": {},
   "outputs": [],
   "source": [
    " # TODO"
   ]
  },
  {
   "cell_type": "markdown",
   "metadata": {},
   "source": [
    "2) The next step is to delete the two model points and all \"inliers\" from the data set and to find the next line.\tLeave the input parameter 3) (distance point to the model line) and change the input parameter 4) again until you have a result and are visually satisfied with the result."
   ]
  },
  {
   "cell_type": "code",
   "execution_count": null,
   "metadata": {},
   "outputs": [],
   "source": [
    " # TODO"
   ]
  },
  {
   "cell_type": "markdown",
   "metadata": {},
   "source": [
    "3) Repeat 2) so often that no points are left."
   ]
  },
  {
   "cell_type": "code",
   "execution_count": null,
   "metadata": {},
   "outputs": [],
   "source": [
    " # TODO"
   ]
  },
  {
   "cell_type": "code",
   "execution_count": null,
   "metadata": {},
   "outputs": [],
   "source": [
    " # TODO"
   ]
  },
  {
   "cell_type": "code",
   "execution_count": null,
   "metadata": {},
   "outputs": [],
   "source": [
    " # TODO"
   ]
  },
  {
   "cell_type": "code",
   "execution_count": null,
   "metadata": {},
   "outputs": [],
   "source": [
    " # TODO ...."
   ]
  },
  {
   "cell_type": "markdown",
   "metadata": {},
   "source": [
    "4) Visualize your final result by displaying all found lines and their \"inliers\". Use a different color for each line and the corresponding \"inliers\"."
   ]
  },
  {
   "cell_type": "code",
   "execution_count": null,
   "metadata": {},
   "outputs": [],
   "source": [
    "def plotModel(data, inlier, c, model):\n",
    "    #plt inlier\n",
    "    plt.plot(inlier[0], inlier[1], 'o', color= c)\n",
    "\n",
    "    #plt model \n",
    "    plt.plot([model[0][0], model[1][0]] ,[model[0][1], model[1][1]], 'o', color = c)\n",
    "\n",
    "    #plt line \n",
    "    xAxis = range(min(data[0])-1,max(data[0])+1)\n",
    "    par1 = (model[1][1]- model[0][1])/(model[1][0]- model[0][0])\n",
    "    par2= model[1][1]-par1*model[1][0]\n",
    "    yAxis = par1*xAxis + par2\n",
    "    plt.plot(xAxis,yAxis, c)\n",
    "    "
   ]
  },
  {
   "cell_type": "code",
   "execution_count": null,
   "metadata": {
    "scrolled": true
   },
   "outputs": [],
   "source": [
    "plotModel(dp, inL1, 'red', model1)\n",
    "plotModel(dp, inL2, 'green', model2)\n",
    "plotModel(dp, inL3, 'blue', model3)\n",
    "plotModel(dp, inL4, 'magenta', model4)\n",
    "# TODO if more that 4\n"
   ]
  },
  {
   "cell_type": "code",
   "execution_count": null,
   "metadata": {},
   "outputs": [],
   "source": []
  }
 ],
 "metadata": {
  "kernelspec": {
   "display_name": "Python 3",
   "language": "python",
   "name": "python3"
  },
  "language_info": {
   "codemirror_mode": {
    "name": "ipython",
    "version": 3
   },
   "file_extension": ".py",
   "mimetype": "text/x-python",
   "name": "python",
   "nbconvert_exporter": "python",
   "pygments_lexer": "ipython3",
   "version": "3.7.6"
  }
 },
 "nbformat": 4,
 "nbformat_minor": 2
}
